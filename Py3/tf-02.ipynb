{
 "cells": [
  {
   "cell_type": "markdown",
   "metadata": {},
   "source": [
    "## 3.4 TensorFlow 实现神经网络"
   ]
  },
  {
   "cell_type": "code",
   "execution_count": 1,
   "metadata": {
    "collapsed": true
   },
   "outputs": [],
   "source": [
    "import tensorflow as tf\n",
    "from numpy.random import RandomState"
   ]
  },
  {
   "cell_type": "markdown",
   "metadata": {},
   "source": [
    "### 3.4.1 前向传播算法\n",
    "\n",
    "简单线性模型\n",
    "\n",
    "$$\n",
    "W^{(1)} = \\begin{bmatrix}\n",
    "W_{1,1}^{(1)} & W_{1,2}^{(1)} & W_{1,3}^{(1)} \\\\\n",
    "W_{2,1}^{(1)} & W_{2,2}^{(1)} & W_{2,3}^{(1)} \\\\\n",
    "\\end{bmatrix}\n",
    "$$\n",
    "\n",
    "$$\n",
    "a^{(1)} = \\begin{bmatrix}\n",
    "a_{1,1} & a_{1,2} & a_{1,3} \\\\\n",
    "\\end{bmatrix} = xW^{(1)} = \\begin{bmatrix}\n",
    "x_1 & x_2 \\\\\n",
    "\\end{bmatrix} \\begin{bmatrix}\n",
    "W_{1,1}^{(1)} & W_{1,2}^{(1)} & W_{1,3}^{(1)} \\\\\n",
    "W_{2,1}^{(1)} & W_{2,2}^{(1)} & W_{2,3}^{(1)} \\\\\n",
    "\\end{bmatrix}\n",
    "$$\n",
    "\n",
    "$$\n",
    "W^{(2)} = \\begin{bmatrix}\n",
    "W_{1,1}^{(2)} \\\\\n",
    "W_{2,1}^{(2)} \\\\\n",
    "W_{3,1}^{(2)} \\\\\n",
    "\\end{bmatrix}\n",
    "$$\n",
    "\n",
    "$$\n",
    "\\begin{bmatrix}\n",
    "y \\\\\n",
    "\\end{bmatrix} = a^{(1)}W^{(2)} = \\begin{bmatrix}\n",
    "a_{1,1} & a_{1,2} & a_{1,3} \\\\\n",
    "\\end{bmatrix} \\begin{bmatrix}\n",
    "W_{1,1}^{(2)} \\\\\n",
    "W_{2,1}^{(2)} \\\\\n",
    "W_{3,1}^{(2)} \\\\\n",
    "\\end{bmatrix}\n",
    "$$"
   ]
  },
  {
   "cell_type": "code",
   "execution_count": 2,
   "metadata": {
    "collapsed": true
   },
   "outputs": [],
   "source": [
    "batch_size = 8\n",
    "\n",
    "w1 = tf.Variable(tf.random_normal([2, 3], stddev=1, seed=1))\n",
    "w2 = tf.Variable(tf.random_normal([3, 1], stddev=1, seed=1))\n",
    "\n",
    "x = tf.placeholder(tf.float32, shape=(None, 2), name=\"x-input\")\n",
    "y_ = tf.placeholder(tf.float32, shape=(None, 1), name=\"y-input\")\n",
    "\n",
    "a = tf.matmul(x, w1)\n",
    "y = tf.matmul(a, w2)"
   ]
  },
  {
   "cell_type": "code",
   "execution_count": 3,
   "metadata": {
    "collapsed": true
   },
   "outputs": [],
   "source": [
    "# 损失函数\n",
    "cross_entry = -tf.reduce_mean(y_ * tf.log(tf.clip_by_value(y, 1e-10, 1.0)))\n",
    "\n",
    "# 训练函数\n",
    "train_step = tf.train.AdamOptimizer(0.001).minimize(cross_entry)"
   ]
  },
  {
   "cell_type": "code",
   "execution_count": 4,
   "metadata": {
    "collapsed": true
   },
   "outputs": [],
   "source": [
    "rdm = RandomState(1)\n",
    "dataset_size = 128\n",
    "\n",
    "X = rdm.rand(dataset_size, 2)\n",
    "Y = [[int(x1 + x2 < 1)] for x1, x2 in X]"
   ]
  },
  {
   "cell_type": "code",
   "execution_count": 5,
   "metadata": {},
   "outputs": [
    {
     "name": "stdout",
     "output_type": "stream",
     "text": [
      "[[-0.81131822  1.48459876  0.06532937]\n",
      " [-2.4427042   0.0992484   0.59122431]]\n",
      "[[-0.81131822]\n",
      " [ 1.48459876]\n",
      " [ 0.06532937]]\n",
      "0: 0.0674925\n",
      "1000: 0.0163385\n",
      "2000: 0.00907547\n",
      "3000: 0.00714436\n",
      "4000: 0.00578471\n",
      "5000: 0.00430222\n",
      "6000: 0.00280812\n",
      "7000: 0.00137464\n",
      "8000: 2.11566e-05\n",
      "9000: -0\n",
      "[[-2.59392238  3.18602753  2.38825655]\n",
      " [-4.1101799   1.68263638  2.83427358]]\n",
      "[[-2.4300375 ]\n",
      " [ 3.33411145]\n",
      " [ 2.10067439]]\n"
     ]
    }
   ],
   "source": [
    "with tf.Session() as sess:\n",
    "    init_op = tf.global_variables_initializer()\n",
    "    sess.run(init_op)\n",
    "    \n",
    "    print(sess.run(w1))\n",
    "    print(sess.run(w2))\n",
    "    \n",
    "    STEPS = 10000\n",
    "    for i in range(STEPS):\n",
    "        start = (i * batch_size) % dataset_size\n",
    "        end = min(start + batch_size, dataset_size)\n",
    "        \n",
    "        sess.run(train_step, feed_dict={\n",
    "            x: X[start:end],\n",
    "            y_: Y[start:end],\n",
    "        })\n",
    "        \n",
    "        if i % 1000 == 0:\n",
    "            total_cross_entryopy = sess.run(cross_entry, feed_dict={\n",
    "                x: X,\n",
    "                y_: Y,\n",
    "            })\n",
    "            print(\"%d: %g\" % (i, total_cross_entryopy))\n",
    "        \n",
    "    print(sess.run(w1))\n",
    "    print(sess.run(w2))"
   ]
  },
  {
   "cell_type": "code",
   "execution_count": 6,
   "metadata": {},
   "outputs": [
    {
     "name": "stdout",
     "output_type": "stream",
     "text": [
      "[[ 2.5  2.5  3. ]\n",
      " [ 4.   4.5  4.5]]\n"
     ]
    }
   ],
   "source": [
    "with tf.Session() as sess:\n",
    "    v = tf.constant([[1.0, 2.0, 3.0], [4.0, 5.0, 6.0]])\n",
    "    print(tf.clip_by_value(v, 2.5, 4.5).eval(session=sess))"
   ]
  },
  {
   "cell_type": "code",
   "execution_count": 7,
   "metadata": {},
   "outputs": [
    {
     "name": "stdout",
     "output_type": "stream",
     "text": [
      "[[ 0.          0.69314718  1.09861231]\n",
      " [ 1.38629436  1.60943794  1.79175949]]\n"
     ]
    }
   ],
   "source": [
    "with tf.Session() as sess:\n",
    "    v = tf.constant([[1.0, 2.0, 3.0], [4.0, 5.0, 6.0]])\n",
    "    print(tf.log(v).eval(session=sess))"
   ]
  },
  {
   "cell_type": "code",
   "execution_count": 8,
   "metadata": {},
   "outputs": [
    {
     "name": "stdout",
     "output_type": "stream",
     "text": [
      "[ 1. -5.  1.]\n",
      "[  1.  25.   1.]\n",
      "9.0\n",
      "7.0\n"
     ]
    }
   ],
   "source": [
    "with tf.Session() as sess:\n",
    "    v0 = tf.constant([5.0, 1.0, 3.0])\n",
    "    v1 = tf.constant([4.0, 6.0, 2.0])\n",
    "    print(sess.run(v0 - v1))\n",
    "    \n",
    "    print(sess.run(tf.square(v0 - v1)))\n",
    "    \n",
    "    mse = tf.reduce_mean(tf.square(v0 - v1))\n",
    "    print(sess.run(mse))\n",
    "    \n",
    "    loss = tf.reduce_sum(tf.where(tf.greater(v0, v1), v0 - v1, v1 - v0))\n",
    "    print(sess.run(loss))"
   ]
  },
  {
   "cell_type": "markdown",
   "metadata": {},
   "source": [
    "### 4.4.2 过拟合\n",
    "正则化：添加描述模型复杂度的函数\n",
    "\n",
    "#### L1 正则化\n",
    "$$ R(w) = \\left|\\left| w \\right|\\right|_1 = \\sum_i \\left| w_i \\right| $$\n",
    "\n",
    "#### L2  正则化\n",
    "$$ R(w) = \\left|\\left| w \\right|\\right|_2^2 = \\sum_i \\left| w_i^2 \\right| $$"
   ]
  },
  {
   "cell_type": "code",
   "execution_count": 9,
   "metadata": {},
   "outputs": [
    {
     "name": "stdout",
     "output_type": "stream",
     "text": [
      "5.0\n",
      "7.5\n"
     ]
    }
   ],
   "source": [
    "with tf.Session() as sess:\n",
    "    weights = tf.constant([[1.0, -2.0], [-3.0, 4.0]])\n",
    "    \n",
    "    loss = tf.contrib.layers.l1_regularizer(0.5)(weights)\n",
    "    print(sess.run(loss))\n",
    "    \n",
    "    loss = tf.contrib.layers.l2_regularizer(0.5)(weights)\n",
    "    print(sess.run(loss))"
   ]
  },
  {
   "cell_type": "code",
   "execution_count": null,
   "metadata": {
    "collapsed": true
   },
   "outputs": [],
   "source": []
  }
 ],
 "metadata": {
  "kernelspec": {
   "display_name": "Python 3",
   "language": "python",
   "name": "python3"
  },
  "language_info": {
   "codemirror_mode": {
    "name": "ipython",
    "version": 3
   },
   "file_extension": ".py",
   "mimetype": "text/x-python",
   "name": "python",
   "nbconvert_exporter": "python",
   "pygments_lexer": "ipython3",
   "version": "3.6.2"
  }
 },
 "nbformat": 4,
 "nbformat_minor": 2
}
