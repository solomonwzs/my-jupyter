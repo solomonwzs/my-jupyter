{
 "cells": [
  {
   "cell_type": "code",
   "execution_count": 1,
   "metadata": {
    "collapsed": true
   },
   "outputs": [],
   "source": [
    "import requests\n",
    "import json"
   ]
  },
  {
   "cell_type": "code",
   "execution_count": 16,
   "metadata": {},
   "outputs": [],
   "source": [
    "def send(method, path, body=None, host=\"http://127.0.0.1:9200\"):\n",
    "    req = requests.Request(method, \"%s%s\" % (host, path), json=json.dumps(body))\n",
    "    r = req.prepare()\n",
    "    \n",
    "    sess = requests.Session()\n",
    "    res = sess.send(r)\n",
    "    return json.loads(res.text)"
   ]
  },
  {
   "cell_type": "code",
   "execution_count": 18,
   "metadata": {},
   "outputs": [
    {
     "data": {
      "text/plain": [
       "{'active_primary_shards': 9,\n",
       " 'active_shards': 9,\n",
       " 'active_shards_percent_as_number': 50.0,\n",
       " 'cluster_name': 'elasticsearch',\n",
       " 'delayed_unassigned_shards': 0,\n",
       " 'initializing_shards': 0,\n",
       " 'number_of_data_nodes': 1,\n",
       " 'number_of_in_flight_fetch': 0,\n",
       " 'number_of_nodes': 1,\n",
       " 'number_of_pending_tasks': 0,\n",
       " 'relocating_shards': 0,\n",
       " 'status': 'yellow',\n",
       " 'task_max_waiting_in_queue_millis': 0,\n",
       " 'timed_out': False,\n",
       " 'unassigned_shards': 9}"
      ]
     },
     "execution_count": 18,
     "metadata": {},
     "output_type": "execute_result"
    }
   ],
   "source": [
    "send(\"GET\", \"/_cluster/health\")"
   ]
  },
  {
   "cell_type": "code",
   "execution_count": null,
   "metadata": {
    "collapsed": true
   },
   "outputs": [],
   "source": []
  }
 ],
 "metadata": {
  "kernelspec": {
   "display_name": "Python 3",
   "language": "python",
   "name": "python3"
  },
  "language_info": {
   "codemirror_mode": {
    "name": "ipython",
    "version": 3
   },
   "file_extension": ".py",
   "mimetype": "text/x-python",
   "name": "python",
   "nbconvert_exporter": "python",
   "pygments_lexer": "ipython3",
   "version": "3.6.2"
  }
 },
 "nbformat": 4,
 "nbformat_minor": 2
}
