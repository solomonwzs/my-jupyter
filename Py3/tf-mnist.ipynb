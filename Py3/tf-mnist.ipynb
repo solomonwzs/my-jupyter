{
 "cells": [
  {
   "cell_type": "code",
   "execution_count": 1,
   "metadata": {
    "collapsed": true
   },
   "outputs": [],
   "source": [
    "from __future__ import absolute_import\n",
    "from __future__ import division\n",
    "from __future__ import print_function\n",
    "\n",
    "import argparse\n",
    "import sys\n",
    "\n",
    "import tensorflow as tf\n",
    "from tensorflow.examples.tutorials.mnist import input_data"
   ]
  },
  {
   "cell_type": "code",
   "execution_count": 2,
   "metadata": {},
   "outputs": [
    {
     "name": "stdout",
     "output_type": "stream",
     "text": [
      "Extracting /home/solomon/Downloads/mnist/train-images-idx3-ubyte.gz\n",
      "Extracting /home/solomon/Downloads/mnist/train-labels-idx1-ubyte.gz\n",
      "Extracting /home/solomon/Downloads/mnist/t10k-images-idx3-ubyte.gz\n",
      "Extracting /home/solomon/Downloads/mnist/t10k-labels-idx1-ubyte.gz\n"
     ]
    }
   ],
   "source": [
    "data_dir = \"/home/solomon/Downloads/mnist\"\n",
    "mnist = input_data.read_data_sets(data_dir, one_hot=True)"
   ]
  },
  {
   "cell_type": "code",
   "execution_count": 19,
   "metadata": {},
   "outputs": [
    {
     "name": "stdout",
     "output_type": "stream",
     "text": [
      "0.9499\n"
     ]
    }
   ],
   "source": [
    "# Create the model\n",
    "LAYER1_NODE = 50\n",
    "\n",
    "with tf.Session() as sess:\n",
    "    x = tf.placeholder(tf.float32, [None, 784])\n",
    "    y_ = tf.placeholder(tf.float32, [None, 10])\n",
    "\n",
    "    # W = tf.Variable(tf.zeros([784, 10]))\n",
    "    W = tf.Variable(tf.truncated_normal([784, 10], stddev=0.1))\n",
    "    b = tf.Variable(tf.zeros([10]))\n",
    "\n",
    "    W1 = tf.Variable(tf.truncated_normal([784, LAYER1_NODE], stddev=0.1))\n",
    "    b1 = tf.Variable(tf.zeros([LAYER1_NODE]))\n",
    "    W2 = tf.Variable(tf.truncated_normal([LAYER1_NODE, 10], stddev=0.1))\n",
    "    b2 = tf.Variable(tf.zeros([10]))\n",
    "\n",
    "    y0 = tf.nn.relu(tf.matmul(x, W1) + b1)\n",
    "    y = tf.nn.softmax(tf.matmul(y0, W2) + b2)\n",
    "    # y = tf.nn.softmax(tf.matmul(x, W) + b)\n",
    "\n",
    "    # Define loss and optimizer\n",
    "    cross_entropy = tf.nn.sparse_softmax_cross_entropy_with_logits(labels=tf.argmax(y_, 1), logits=y)\n",
    "    cross_entropy_mean = tf.reduce_mean(cross_entropy)\n",
    "    train_step = tf.train.GradientDescentOptimizer(0.5).minimize(cross_entropy_mean)\n",
    "    \n",
    "    tf.global_variables_initializer().run()\n",
    "\n",
    "    # Train\n",
    "    for _ in range(4000):\n",
    "        batch_xs, batch_ys = mnist.train.next_batch(100)\n",
    "        sess.run(train_step, feed_dict={x: batch_xs, y_: batch_ys})\n",
    "\n",
    "    # Test trained model\n",
    "    correct_prediction = tf.equal(tf.argmax(y, 1), tf.argmax(y_, 1))\n",
    "    accuracy = tf.reduce_mean(tf.cast(correct_prediction, tf.float32))\n",
    "    print(sess.run(accuracy, feed_dict={x: mnist.test.images,\n",
    "                                        y_: mnist.test.labels}))"
   ]
  },
  {
   "cell_type": "code",
   "execution_count": null,
   "metadata": {
    "collapsed": true
   },
   "outputs": [],
   "source": []
  }
 ],
 "metadata": {
  "kernelspec": {
   "display_name": "Python 3",
   "language": "python",
   "name": "python3"
  },
  "language_info": {
   "codemirror_mode": {
    "name": "ipython",
    "version": 3
   },
   "file_extension": ".py",
   "mimetype": "text/x-python",
   "name": "python",
   "nbconvert_exporter": "python",
   "pygments_lexer": "ipython3",
   "version": "3.6.2"
  }
 },
 "nbformat": 4,
 "nbformat_minor": 2
}
