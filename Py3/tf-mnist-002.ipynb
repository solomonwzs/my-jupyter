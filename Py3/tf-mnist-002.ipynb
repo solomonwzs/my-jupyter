{
 "cells": [
  {
   "cell_type": "code",
   "execution_count": 1,
   "metadata": {
    "collapsed": true
   },
   "outputs": [],
   "source": [
    "from __future__ import absolute_import\n",
    "from __future__ import division\n",
    "from __future__ import print_function\n",
    "\n",
    "import tensorflow as tf\n",
    "from tensorflow.examples.tutorials.mnist import input_data"
   ]
  },
  {
   "cell_type": "code",
   "execution_count": 2,
   "metadata": {},
   "outputs": [
    {
     "name": "stdout",
     "output_type": "stream",
     "text": [
      "Extracting /home/solomon/Downloads/mnist/train-images-idx3-ubyte.gz\n",
      "Extracting /home/solomon/Downloads/mnist/train-labels-idx1-ubyte.gz\n",
      "Extracting /home/solomon/Downloads/mnist/t10k-images-idx3-ubyte.gz\n",
      "Extracting /home/solomon/Downloads/mnist/t10k-labels-idx1-ubyte.gz\n"
     ]
    }
   ],
   "source": [
    "data_dir = \"/home/solomon/Downloads/mnist\"\n",
    "mnist = input_data.read_data_sets(data_dir, one_hot=True)"
   ]
  },
  {
   "cell_type": "code",
   "execution_count": 13,
   "metadata": {
    "collapsed": true
   },
   "outputs": [],
   "source": [
    "INPUT_NODE = 784\n",
    "OUTPUT_NODE = 10\n",
    "\n",
    "LAYER1_NODE = 50\n",
    "BATCH_SIZE = 100\n",
    "\n",
    "LEARNING_RATE_BASE = 0.8\n",
    "LEARNING_RATE_DECAY = 0.99\n",
    "\n",
    "REGULARIZATION_RATE = 0.0001\n",
    "TRAINING_STEPS = 30000\n",
    "MOVING_AVERAGE_DECAY = 0.99"
   ]
  },
  {
   "cell_type": "code",
   "execution_count": 6,
   "metadata": {
    "collapsed": true
   },
   "outputs": [],
   "source": [
    "def inference(input_tensor, avg_class, weight1, biases1, weight2, biases2):\n",
    "    if avg_class is None:\n",
    "        layer1 = tf.nn.relu(tf.matmul(input_tensor, weight1) + biases1)\n",
    "        return tf.matmul(layer1, weight2) + biases2\n",
    "    else:\n",
    "        layer1 = tf.nn.relu(tf.matmul(input_tensor, avg_class.average(weight1)) + avg_class.average(biases1))\n",
    "        return tf.matmul(layer1, avg_class.average(weight2)) + avg_class.average(biases2)"
   ]
  },
  {
   "cell_type": "code",
   "execution_count": 3,
   "metadata": {},
   "outputs": [
    {
     "name": "stdout",
     "output_type": "stream",
     "text": [
      "0.9146\n"
     ]
    }
   ],
   "source": [
    "def mnist00():\n",
    "    with tf.Session() as sess:\n",
    "        # Create the model\n",
    "        x = tf.placeholder(tf.float32, [None, 784])\n",
    "        W = tf.Variable(tf.zeros([784, 10]))\n",
    "        b = tf.Variable(tf.zeros([10]))\n",
    "        y = tf.matmul(x, W) + b\n",
    "        #y = tf.nn.softmax(tf.matmul(x, W) + b)\n",
    "\n",
    "        # Define loss and optimizer\n",
    "        y_ = tf.placeholder(tf.float32, [None, 10])\n",
    "\n",
    "        cross_entropy = tf.reduce_mean(tf.nn.softmax_cross_entropy_with_logits(labels=y_, logits=y))\n",
    "        # cross_entropy = tf.reduce_mean(-tf.reduce_sum(y_ * tf.log(y), reduction_indices=[1]))\n",
    "        train_step = tf.train.GradientDescentOptimizer(0.5).minimize(cross_entropy)\n",
    "\n",
    "        tf.global_variables_initializer().run()\n",
    "\n",
    "        # Train\n",
    "        for _ in range(1000):\n",
    "            batch_xs, batch_ys = mnist.train.next_batch(100)\n",
    "            sess.run(train_step, feed_dict={x: batch_xs, y_: batch_ys})\n",
    "\n",
    "        # Test trained model\n",
    "        correct_prediction = tf.equal(tf.argmax(y, 1), tf.argmax(y_, 1))\n",
    "        accuracy = tf.reduce_mean(tf.cast(correct_prediction, tf.float32))\n",
    "        print(sess.run(accuracy, feed_dict={x: mnist.test.images,\n",
    "                                            y_: mnist.test.labels}))\n",
    "        \n",
    "mnist00()"
   ]
  },
  {
   "cell_type": "code",
   "execution_count": 36,
   "metadata": {},
   "outputs": [
    {
     "name": "stdout",
     "output_type": "stream",
     "text": [
      "0.4272\n"
     ]
    }
   ],
   "source": [
    "def mnist01():\n",
    "    with tf.Session() as sess:\n",
    "        x = tf.placeholder(tf.float32, [None, INPUT_NODE], name=\"x-input\")\n",
    "        y_ = tf.placeholder(tf.float32, [None, OUTPUT_NODE], name=\"y-input\")\n",
    "\n",
    "        # 隐藏层参数\n",
    "        weight1 = tf.Variable(tf.truncated_normal([INPUT_NODE, LAYER1_NODE], stddev=0.1))\n",
    "        # weight1 = tf.Variable(tf.zeros([INPUT_NODE, LAYER1_NODE]))\n",
    "        biases1 = tf.Variable(tf.constant(0.1, shape=[LAYER1_NODE]))\n",
    "\n",
    "        # 输出层参数\n",
    "        weight2 = tf.Variable(tf.truncated_normal([LAYER1_NODE, OUTPUT_NODE], stddev=0.1))\n",
    "        # weight2 = tf.Variable(tf.zeros([LAYER1_NODE, OUTPUT_NODE]))\n",
    "        biases2 = tf.Variable(tf.constant(0.1, shape=[OUTPUT_NODE]))\n",
    "\n",
    "        # 计算前向传播结果\n",
    "        y = inference(x, None, weight1, biases1, weight2, biases2)\n",
    "        \n",
    "        # 定义训练轮数\n",
    "        global_step = tf.Variable(0, trainable=False)\n",
    "        # 定义滑动平均类\n",
    "        variable_averages = tf.train.ExponentialMovingAverage(MOVING_AVERAGE_DECAY, global_step)\n",
    "        # 除辅助变量外，对神经网络中的所有变量使用滑动平均\n",
    "        variable_averages_op = variable_averages.apply(tf.trainable_variables())\n",
    "        \n",
    "        # 计算使用了滑动平均参数后的前向传播结果\n",
    "        average_y = inference(x, variable_averages, weight1, biases1, weight2, biases2)\n",
    "        \n",
    "        # 计算交叉熵和平均值\n",
    "        cross_entropy = tf.nn.sparse_softmax_cross_entropy_with_logits(labels=tf.argmax(y_, 1), logits=y)\n",
    "        # cross_entropy = tf.nn.softmax_cross_entropy_with_logits(labels=y_, logits=y)\n",
    "        cross_entropy_mean = tf.reduce_mean(cross_entropy)\n",
    "        \n",
    "        # 计算正则化损失函数\n",
    "        regularizer = tf.contrib.layers.l2_regularizer(REGULARIZATION_RATE)\n",
    "        # 计算模型正则化损失\n",
    "        regularization = regularizer(weight1) + regularizer(weight2)\n",
    "\n",
    "        # 总损失\n",
    "        loss = cross_entropy_mean + regularization\n",
    "        \n",
    "        # 设置指数衰减的学习率\n",
    "        learn_rate = tf.train.exponential_decay(\n",
    "        LEARNING_RATE_BASE, global_step, mnist.train.num_examples, LEARNING_RATE_DECAY)\n",
    "        \n",
    "        # 优化损失函数\n",
    "        train_step = tf.train.GradientDescentOptimizer(learn_rate).minimize(loss, global_step=global_step)\n",
    "        \n",
    "        # 通过反向传播更新神经网络中的参数\n",
    "        # train_op = tf.group(train_step, variable_averages_op)\n",
    "        with tf.control_dependencies([train_step, variable_averages_op]):\n",
    "            train_op = tf.no_op(name=\"train\")\n",
    "            \n",
    "        # 检验滑动平均前向传播结果\n",
    "        correct_prediction = tf.equal(tf.argmax(average_y, 1), tf.argmax(y_, 1))\n",
    "\n",
    "        # 计算模型准确率\n",
    "        accuracy = tf.reduce_mean(tf.cast(correct_prediction, tf.float32))\n",
    "\n",
    "        tf.global_variables_initializer().run()\n",
    "\n",
    "        # Train\n",
    "        for _ in range(500):\n",
    "            batch_xs, batch_ys = mnist.train.next_batch(BATCH_SIZE)\n",
    "            sess.run(train_op, feed_dict={x: batch_xs, y_: batch_ys})\n",
    "\n",
    "        print(sess.run(accuracy, feed_dict={x: mnist.test.images,\n",
    "                                            y_: mnist.test.labels}))\n",
    "        \n",
    "mnist01()"
   ]
  },
  {
   "cell_type": "code",
   "execution_count": null,
   "metadata": {
    "collapsed": true
   },
   "outputs": [],
   "source": []
  }
 ],
 "metadata": {
  "kernelspec": {
   "display_name": "Python 3",
   "language": "python",
   "name": "python3"
  },
  "language_info": {
   "codemirror_mode": {
    "name": "ipython",
    "version": 3
   },
   "file_extension": ".py",
   "mimetype": "text/x-python",
   "name": "python",
   "nbconvert_exporter": "python",
   "pygments_lexer": "ipython3",
   "version": "3.6.2"
  }
 },
 "nbformat": 4,
 "nbformat_minor": 2
}
