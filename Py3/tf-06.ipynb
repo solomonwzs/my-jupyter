{
 "cells": [
  {
   "cell_type": "code",
   "execution_count": 1,
   "metadata": {},
   "outputs": [
    {
     "name": "stdout",
     "output_type": "stream",
     "text": [
      "Extracting /home/solomon/Downloads/mnist/train-images-idx3-ubyte.gz\n",
      "Extracting /home/solomon/Downloads/mnist/train-labels-idx1-ubyte.gz\n",
      "Extracting /home/solomon/Downloads/mnist/t10k-images-idx3-ubyte.gz\n",
      "Extracting /home/solomon/Downloads/mnist/t10k-labels-idx1-ubyte.gz\n"
     ]
    }
   ],
   "source": [
    "import tensorflow as tf\n",
    "from tensorflow.examples.tutorials.mnist import input_data\n",
    "\n",
    "data_dir = \"/home/solomon/Downloads/mnist\"\n",
    "mnist = input_data.read_data_sets(data_dir, one_hot=True)"
   ]
  },
  {
   "cell_type": "code",
   "execution_count": 15,
   "metadata": {
    "collapsed": true
   },
   "outputs": [],
   "source": [
    "from tensorflow.python.framework.ops import Tensor\n",
    "from tensorflow.python.training.moving_averages import ExponentialMovingAverage"
   ]
  },
  {
   "cell_type": "code",
   "execution_count": 27,
   "metadata": {
    "collapsed": true
   },
   "outputs": [],
   "source": [
    "def inference_with_scope(input_tensor:Tensor, output_tensor_nodes:int,\n",
    "                         wname:str, bname:str, scope:str=\"layer\", reuse:bool=False,\n",
    "                         avg_class:ExponentialMovingAverage=None):\n",
    "    input_shape = input_tensor.shape.as_list()\n",
    "    with tf.variable_scope(scope, reuse=reuse):\n",
    "        weight = tf.get_variable(wname, [input_shape[-1], output_tensor_nodes],\n",
    "                                 initializer=tf.truncated_normal_initializer(stddev=0.1))\n",
    "        biases = tf.get_variable(bname, [output_tensor_nodes],\n",
    "                                 initializer=tf.constant_initializer(0.1))\n",
    "    if avg_class is None:\n",
    "        return tf.matmul(input_tensor, weight) + biases\n",
    "    else:\n",
    "        return tf.matmul(input_tensor, avg_class.average(weight)) + avg_class.average(biases)"
   ]
  },
  {
   "cell_type": "code",
   "execution_count": 28,
   "metadata": {
    "collapsed": true
   },
   "outputs": [],
   "source": [
    "def inference(input_tensor:Tensor, output_tensor_nodes:int,\n",
    "              avg_class:ExponentialMovingAverage=None):\n",
    "    input_shape = input_tensor.shape.as_list()\n",
    "    \n",
    "    weight = tf.Variable(tf.truncated_normal([input_shape[-1], output_tensor_nodes], stddev=0.1))\n",
    "    biases = tf.Variable(tf.constant(0.1, shape=[output_tensor_nodes]))\n",
    "    \n",
    "    if avg_class is None:\n",
    "        return tf.matmul(input_tensor, weight) + biases\n",
    "    else:\n",
    "        return tf.matmul(input_tensor, avg_class.average(weight)) + avg_class.average(biases)"
   ]
  },
  {
   "cell_type": "code",
   "execution_count": 60,
   "metadata": {},
   "outputs": [
    {
     "name": "stdout",
     "output_type": "stream",
     "text": [
      "add_67:0\n",
      "0.9618\n"
     ]
    }
   ],
   "source": [
    "def f_mnist_0(mnist):\n",
    "    with tf.Session() as sess:\n",
    "        x = tf.placeholder(tf.float32, [None, 784], name=\"x-input\")\n",
    "        layer1 = tf.nn.relu(inference(x, 50))\n",
    "        y = inference(layer1, 10)\n",
    "        \n",
    "        y_ = tf.placeholder(tf.float32, [None, 10], name=\"y-input\")\n",
    "        \n",
    "        cross_entropy = tf.nn.sparse_softmax_cross_entropy_with_logits(labels=tf.argmax(y_, 1), logits=y)\n",
    "        cross_entropy_mean = tf.reduce_mean(cross_entropy)\n",
    "        \n",
    "        train_step = tf.train.GradientDescentOptimizer(0.5).minimize(cross_entropy_mean)\n",
    "        \n",
    "        #print([i.name for i in tf.trainable_variables()])\n",
    "        print(y.name)\n",
    "        \n",
    "        tf.global_variables_initializer().run()\n",
    "\n",
    "        # Train\n",
    "        for _ in range(1000):\n",
    "            batch_xs, batch_ys = mnist.train.next_batch(100)\n",
    "            sess.run(train_step, feed_dict={x: batch_xs, y_: batch_ys})\n",
    "\n",
    "        # Test trained model\n",
    "        correct_prediction = tf.equal(tf.argmax(y, 1), tf.argmax(y_, 1))\n",
    "        accuracy = tf.reduce_mean(tf.cast(correct_prediction, tf.float32))\n",
    "        print(sess.run(accuracy, feed_dict={x: mnist.test.images,\n",
    "                                            y_: mnist.test.labels}))\n",
    "\n",
    "f_mnist_0(mnist)"
   ]
  },
  {
   "cell_type": "code",
   "execution_count": 57,
   "metadata": {
    "collapsed": true
   },
   "outputs": [],
   "source": [
    "?tf.get_variable"
   ]
  },
  {
   "cell_type": "code",
   "execution_count": null,
   "metadata": {
    "collapsed": true
   },
   "outputs": [],
   "source": []
  }
 ],
 "metadata": {
  "kernelspec": {
   "display_name": "Python 3",
   "language": "python",
   "name": "python3"
  },
  "language_info": {
   "codemirror_mode": {
    "name": "ipython",
    "version": 3
   },
   "file_extension": ".py",
   "mimetype": "text/x-python",
   "name": "python",
   "nbconvert_exporter": "python",
   "pygments_lexer": "ipython3",
   "version": "3.6.2"
  }
 },
 "nbformat": 4,
 "nbformat_minor": 2
}
