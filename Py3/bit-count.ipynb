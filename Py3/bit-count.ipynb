{
 "cells": [
  {
   "cell_type": "code",
   "execution_count": 1,
   "metadata": {},
   "outputs": [
    {
     "name": "stdout",
     "output_type": "stream",
     "text": [
      "11011001\n",
      "5\n"
     ]
    }
   ],
   "source": [
    "def bitCount0(n:int) -> int:\n",
    "    c = 0\n",
    "    while n > 0:\n",
    "        if n & 1 == 1:\n",
    "            c += 1\n",
    "        n >>= 1\n",
    "    return c\n",
    "\n",
    "print(format(217, 'b'))\n",
    "print(bitCount0(217))"
   ]
  },
  {
   "cell_type": "code",
   "execution_count": 2,
   "metadata": {},
   "outputs": [
    {
     "name": "stdout",
     "output_type": "stream",
     "text": [
      "11011001 11011000 11011000\n",
      "11011000 11010111 11010000\n",
      "11010000 11001111 11000000\n",
      "11000000 10111111 10000000\n",
      "10000000 1111111 0\n",
      "5\n"
     ]
    }
   ],
   "source": [
    "def bitCount1(n:int) -> int:\n",
    "    c = 0\n",
    "    while n > 0:\n",
    "        c += 1\n",
    "        print(format(n, 'b'), format(n - 1, 'b'), format(n & (n - 1), 'b'))\n",
    "        n &= (n - 1)\n",
    "    return c\n",
    "\n",
    "print(bitCount1(217))"
   ]
  },
  {
   "cell_type": "code",
   "execution_count": 3,
   "metadata": {},
   "outputs": [
    {
     "name": "stdout",
     "output_type": "stream",
     "text": [
      "5\n"
     ]
    }
   ],
   "source": [
    "def bitCount2(n:int) -> int:\n",
    "    n = (n & 0x55555555) + ((n >> 1)  & 0x55555555)\n",
    "    n = (n & 0x33333333) + ((n >> 2)  & 0x33333333)\n",
    "    n = (n & 0x0f0f0f0f) + ((n >> 4)  & 0x0f0f0f0f)\n",
    "    n = (n & 0x00ff00ff) + ((n >> 8)  & 0x00ff00ff)\n",
    "    n = (n & 0x0000ffff) + ((n >> 16) & 0x0000ffff)\n",
    "    return n\n",
    "\n",
    "print(bitCount2(217))"
   ]
  },
  {
   "cell_type": "markdown",
   "metadata": {},
   "source": [
    "```\n",
    "1 1 0 1 1 0 0 1\n",
    "\\ / \\ / \\ / \\ /\n",
    " 2   1   1   1\n",
    "(10)(01)(01)(01)\n",
    " \\   /   \\   /\n",
    "   3       2\n",
    " (0011)  (0010)\n",
    "   \\       /\n",
    "       5\n",
    "```"
   ]
  },
  {
   "cell_type": "code",
   "execution_count": 4,
   "metadata": {},
   "outputs": [
    {
     "name": "stdout",
     "output_type": "stream",
     "text": [
      "101011001\n",
      "0b10010001\n",
      "5\n"
     ]
    }
   ],
   "source": [
    "def bitCount3(n:int) -> int:\n",
    "    tmp = n - ((n >> 1) & 0o33333333333) - ((n >> 2) & 0o11111111111)\n",
    "    print(bin(tmp))\n",
    "    return ((tmp + (tmp >> 3)) & 0o30707070707) % 63\n",
    "\n",
    "print(format(345, 'b'))\n",
    "print(bitCount3(345))"
   ]
  },
  {
   "cell_type": "markdown",
   "metadata": {
    "collapsed": true
   },
   "source": [
    "ex:\n",
    "\n",
    "row 1:\n",
    "\n",
    "$$ 345_{10} = 101,011,001_2 $$\n",
    "\n",
    "```python\n",
    "n\n",
    "```\n",
    "\n",
    "$$ 3 bits: 2^2*a+2^1*b+2^0*c $$\n",
    "\n",
    "```python\n",
    "((n >> 1) & 0o33333333333)\n",
    "```\n",
    "\n",
    "$$ 010,001,000_2 $$\n",
    "\n",
    "$$ 3 bits: 2^1*a+2^0*b $$\n",
    "\n",
    "```python\n",
    "((n >> 2) & 0o11111111111)\n",
    "```\n",
    "\n",
    "$$ 001,000,000_2 $$\n",
    "\n",
    "$$ 3 bits: 2^0*a $$\n",
    "\n",
    "```python\n",
    "n - ((n >> 1) & 0o33333333333) - ((n >> 2) & 0o11111111111)\n",
    "```\n",
    "\n",
    "$$ 2^2*a+2^1*b+2^0*c - (2^1*a+2^0*b) - (2^0*a) = a + b + c $$\n",
    "\n",
    "row 2:\n",
    "\n",
    "$$ tmp = 145 $$\n",
    "\n",
    "$$ 145_{10} = 000,010,010,001_2 $$\n",
    "\n",
    "```python\n",
    "(tmp + (tmp >> 3)) & 0o30707070707\n",
    "```\n",
    "\n",
    "$$ 000,010,010,001_2 $$\n",
    "$$ 000,000,010,010_2 $$\n",
    "$$ 000,010,000,011_2 $$\n",
    "\n",
    "```python\n",
    "tmp % 63\n",
    "```\n",
    "\n",
    "$$ 63_{10} = 111,111_{2} $$\n",
    "$$ 000,010,000,011_2 \\Rightarrow 000,010_{2} + 000,011_{2} $$"
   ]
  }
 ],
 "metadata": {
  "kernelspec": {
   "display_name": "Python 3",
   "language": "python",
   "name": "python3"
  },
  "language_info": {
   "codemirror_mode": {
    "name": "ipython",
    "version": 3
   },
   "file_extension": ".py",
   "mimetype": "text/x-python",
   "name": "python",
   "nbconvert_exporter": "python",
   "pygments_lexer": "ipython3",
   "version": "3.6.2"
  }
 },
 "nbformat": 4,
 "nbformat_minor": 2
}
